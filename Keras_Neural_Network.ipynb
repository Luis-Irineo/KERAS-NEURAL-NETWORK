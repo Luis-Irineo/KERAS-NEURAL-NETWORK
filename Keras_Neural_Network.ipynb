{
 "cells": [
  {
   "cell_type": "markdown",
   "id": "1f82d750-87cb-40d4-8520-f7e1bc2610e1",
   "metadata": {},
   "source": [
    "# Librerias"
   ]
  },
  {
   "cell_type": "code",
   "execution_count": 27,
   "id": "a0002ab4-306c-4367-9d6d-c27202a6e03e",
   "metadata": {},
   "outputs": [],
   "source": [
    "import tensorflow as tf\n",
    "import numpy as np\n",
    "import matplotlib.pyplot as plt\n",
    "from matplotlib.image import imread\n",
    "import os"
   ]
  },
  {
   "cell_type": "code",
   "execution_count": 28,
   "id": "7d80c596-7ced-49b7-a736-f71c5f42d219",
   "metadata": {},
   "outputs": [
    {
     "name": "stdout",
     "output_type": "stream",
     "text": [
      "Requirement already satisfied: wandb in /usr/local/lib/python3.11/dist-packages (0.21.4)\n",
      "Requirement already satisfied: click>=8.0.1 in /usr/local/lib/python3.11/dist-packages (from wandb) (8.2.1)\n",
      "Requirement already satisfied: gitpython!=3.1.29,>=1.0.0 in /usr/local/lib/python3.11/dist-packages (from wandb) (3.1.45)\n",
      "Requirement already satisfied: packaging in /usr/local/lib/python3.11/dist-packages (from wandb) (25.0)\n",
      "Requirement already satisfied: platformdirs in /usr/local/lib/python3.11/dist-packages (from wandb) (4.3.8)\n",
      "Requirement already satisfied: protobuf!=4.21.0,!=5.28.0,<7,>=3.19.0 in /usr/local/lib/python3.11/dist-packages (from wandb) (6.31.1)\n",
      "Requirement already satisfied: pydantic<3 in /usr/local/lib/python3.11/dist-packages (from wandb) (2.11.9)\n",
      "Requirement already satisfied: pyyaml in /usr/local/lib/python3.11/dist-packages (from wandb) (6.0.2)\n",
      "Requirement already satisfied: requests<3,>=2.0.0 in /usr/local/lib/python3.11/dist-packages (from wandb) (2.32.4)\n",
      "Requirement already satisfied: sentry-sdk>=2.0.0 in /usr/local/lib/python3.11/dist-packages (from wandb) (2.37.1)\n",
      "Requirement already satisfied: typing-extensions<5,>=4.8 in /usr/local/lib/python3.11/dist-packages (from wandb) (4.14.1)\n",
      "Requirement already satisfied: annotated-types>=0.6.0 in /usr/local/lib/python3.11/dist-packages (from pydantic<3->wandb) (0.7.0)\n",
      "Requirement already satisfied: pydantic-core==2.33.2 in /usr/local/lib/python3.11/dist-packages (from pydantic<3->wandb) (2.33.2)\n",
      "Requirement already satisfied: typing-inspection>=0.4.0 in /usr/local/lib/python3.11/dist-packages (from pydantic<3->wandb) (0.4.1)\n",
      "Requirement already satisfied: charset_normalizer<4,>=2 in /usr/local/lib/python3.11/dist-packages (from requests<3,>=2.0.0->wandb) (3.4.3)\n",
      "Requirement already satisfied: idna<4,>=2.5 in /usr/local/lib/python3.11/dist-packages (from requests<3,>=2.0.0->wandb) (3.10)\n",
      "Requirement already satisfied: urllib3<3,>=1.21.1 in /usr/local/lib/python3.11/dist-packages (from requests<3,>=2.0.0->wandb) (2.5.0)\n",
      "Requirement already satisfied: certifi>=2017.4.17 in /usr/local/lib/python3.11/dist-packages (from requests<3,>=2.0.0->wandb) (2025.8.3)\n",
      "Requirement already satisfied: gitdb<5,>=4.0.1 in /usr/local/lib/python3.11/dist-packages (from gitpython!=3.1.29,>=1.0.0->wandb) (4.0.12)\n",
      "Requirement already satisfied: smmap<6,>=3.0.1 in /usr/local/lib/python3.11/dist-packages (from gitdb<5,>=4.0.1->gitpython!=3.1.29,>=1.0.0->wandb) (5.0.2)\n",
      "\u001b[33mWARNING: Running pip as the 'root' user can result in broken permissions and conflicting behaviour with the system package manager, possibly rendering your system unusable. It is recommended to use a virtual environment instead: https://pip.pypa.io/warnings/venv. Use the --root-user-action option if you know what you are doing and want to suppress this warning.\u001b[0m\u001b[33m\n",
      "\u001b[0m"
     ]
    }
   ],
   "source": [
    "!pip3 install --upgrade wandb"
   ]
  },
  {
   "cell_type": "markdown",
   "id": "d3ffe2c9-387a-4bf5-a484-741e9ffcfca4",
   "metadata": {},
   "source": [
    "### Sublibrerias de tensorflow -keras-"
   ]
  },
  {
   "cell_type": "code",
   "execution_count": 29,
   "id": "ac4fbc2e-58e1-4424-9b36-9545c5ffdc18",
   "metadata": {},
   "outputs": [],
   "source": [
    "from tensorflow import keras\n",
    "from tensorflow.keras.datasets import mnist\n",
    "from tensorflow.keras.models import Sequential\n",
    "from keras import layers\n",
    "from keras import initializers\n",
    "from tensorflow.keras.layers import Dense, Dropout, Activation\n",
    "from tensorflow.keras.optimizers import RMSprop, SGD\n",
    "from tensorflow.keras import regularizers"
   ]
  },
  {
   "cell_type": "markdown",
   "id": "7f4202d2-71f0-4258-9402-2f4ea5d6399f",
   "metadata": {},
   "source": [
    "### Abrimos wandb"
   ]
  },
  {
   "cell_type": "code",
   "execution_count": 30,
   "id": "d537dc57-472f-4253-8e99-6fdb201be81c",
   "metadata": {},
   "outputs": [
    {
     "name": "stderr",
     "output_type": "stream",
     "text": [
      "\u001b[34m\u001b[1mwandb\u001b[0m: \u001b[33mWARNING\u001b[0m Calling wandb.login() after wandb.init() has no effect.\n"
     ]
    },
    {
     "data": {
      "text/plain": [
       "True"
      ]
     },
     "execution_count": 30,
     "metadata": {},
     "output_type": "execute_result"
    }
   ],
   "source": [
    "import wandb\n",
    "from wandb.integration.keras import WandbMetricsLogger, WandbModelCheckpoint\n",
    "wandb.login()"
   ]
  },
  {
   "cell_type": "markdown",
   "id": "a0b7af5d-3231-412a-8ff0-04959ef4f85e",
   "metadata": {},
   "source": [
    "### Hiper-parametros"
   ]
  },
  {
   "cell_type": "code",
   "execution_count": 31,
   "id": "a7edca01-2ca6-4cc8-bc27-b3dc64bc092c",
   "metadata": {},
   "outputs": [],
   "source": [
    "lr = 0.005 #Learning rate\n",
    "epochs = 8\n",
    "bs = 120 #batch size\n",
    "loss = \"categorical_crossentropy\""
   ]
  },
  {
   "cell_type": "markdown",
   "id": "84180570-1310-47e5-be51-7e3263d35831",
   "metadata": {},
   "source": [
    "### inicialización de wandb"
   ]
  },
  {
   "cell_type": "code",
   "execution_count": 32,
   "id": "2cce1a1a-9b22-4579-b6d7-8b49c55e4755",
   "metadata": {},
   "outputs": [
    {
     "data": {
      "text/html": [
       "Finishing previous runs because reinit is set to 'default'."
      ],
      "text/plain": [
       "<IPython.core.display.HTML object>"
      ]
     },
     "metadata": {},
     "output_type": "display_data"
    },
    {
     "data": {
      "text/html": [],
      "text/plain": [
       "<IPython.core.display.HTML object>"
      ]
     },
     "metadata": {},
     "output_type": "display_data"
    },
    {
     "data": {
      "text/html": [
       " View run <strong style=\"color:#cdcd00\">Prueba con más capas</strong> at: <a href='https://wandb.ai/luisedu04-buap/Deeplearning_Digit_Recognition/runs/qil1sozi' target=\"_blank\">https://wandb.ai/luisedu04-buap/Deeplearning_Digit_Recognition/runs/qil1sozi</a><br> View project at: <a href='https://wandb.ai/luisedu04-buap/Deeplearning_Digit_Recognition' target=\"_blank\">https://wandb.ai/luisedu04-buap/Deeplearning_Digit_Recognition</a><br>Synced 5 W&B file(s), 0 media file(s), 0 artifact file(s) and 0 other file(s)"
      ],
      "text/plain": [
       "<IPython.core.display.HTML object>"
      ]
     },
     "metadata": {},
     "output_type": "display_data"
    },
    {
     "data": {
      "text/html": [
       "Find logs at: <code>./wandb/run-20250914_195336-qil1sozi/logs</code>"
      ],
      "text/plain": [
       "<IPython.core.display.HTML object>"
      ]
     },
     "metadata": {},
     "output_type": "display_data"
    },
    {
     "data": {
      "text/html": [],
      "text/plain": [
       "<IPython.core.display.HTML object>"
      ]
     },
     "metadata": {},
     "output_type": "display_data"
    },
    {
     "data": {
      "text/html": [
       "Tracking run with wandb version 0.21.4"
      ],
      "text/plain": [
       "<IPython.core.display.HTML object>"
      ]
     },
     "metadata": {},
     "output_type": "display_data"
    },
    {
     "data": {
      "text/html": [
       "Run data is saved locally in <code>/tf/keras_neural_network/wandb/run-20250914_195352-vu123zq1</code>"
      ],
      "text/plain": [
       "<IPython.core.display.HTML object>"
      ]
     },
     "metadata": {},
     "output_type": "display_data"
    },
    {
     "data": {
      "text/html": [
       "Syncing run <strong><a href='https://wandb.ai/luisedu04-buap/Deeplearning_Digit_Recognition/runs/vu123zq1' target=\"_blank\">Prueba con más capas</a></strong> to <a href='https://wandb.ai/luisedu04-buap/Deeplearning_Digit_Recognition' target=\"_blank\">Weights & Biases</a> (<a href='https://wandb.me/developer-guide' target=\"_blank\">docs</a>)<br>"
      ],
      "text/plain": [
       "<IPython.core.display.HTML object>"
      ]
     },
     "metadata": {},
     "output_type": "display_data"
    },
    {
     "data": {
      "text/html": [
       " View project at <a href='https://wandb.ai/luisedu04-buap/Deeplearning_Digit_Recognition' target=\"_blank\">https://wandb.ai/luisedu04-buap/Deeplearning_Digit_Recognition</a>"
      ],
      "text/plain": [
       "<IPython.core.display.HTML object>"
      ]
     },
     "metadata": {},
     "output_type": "display_data"
    },
    {
     "data": {
      "text/html": [
       " View run at <a href='https://wandb.ai/luisedu04-buap/Deeplearning_Digit_Recognition/runs/vu123zq1' target=\"_blank\">https://wandb.ai/luisedu04-buap/Deeplearning_Digit_Recognition/runs/vu123zq1</a>"
      ],
      "text/plain": [
       "<IPython.core.display.HTML object>"
      ]
     },
     "metadata": {},
     "output_type": "display_data"
    }
   ],
   "source": [
    "run = wandb.init(\n",
    "    # set the wandb project where this run will be logged\n",
    "    name = \"Prueba con más capas\",\n",
    "    project = \"Deeplearning_Digit_Recognition\",\n",
    "\n",
    "    # track hyperparameters and run metadata with wandb.config\n",
    "    config = {\n",
    "        \"layer_1\": 512,\n",
    "        \"activation_1\": \"relu\",\n",
    "        \"activation_2\": \"relu\",\n",
    "        \"w_initializer\": \"RandomNormal\",\n",
    "        \"optimizer\": \"RMSprop\",\n",
    "        \"loss\": loss,\n",
    "        \"metric\": \"accuracy\",\n",
    "        \"epoch\": epochs,\n",
    "        \"batch_size\": bs,\n",
    "        \"layer_quantity\": 2\n",
    "    }\n",
    ")"
   ]
  },
  {
   "cell_type": "markdown",
   "id": "f7e5c57c-98a9-4a09-8bb8-18aa0e852f47",
   "metadata": {},
   "source": [
    "### Carga de datos"
   ]
  },
  {
   "cell_type": "code",
   "execution_count": 33,
   "id": "d5a1e2fc-fe59-44c4-8191-9470babf0d86",
   "metadata": {},
   "outputs": [],
   "source": [
    "dataset=mnist.load_data()"
   ]
  },
  {
   "cell_type": "markdown",
   "id": "f6ea0bfe-4617-45ce-8ac0-442ef6277984",
   "metadata": {},
   "source": [
    "### Datos de entrenamiento y prueba"
   ]
  },
  {
   "cell_type": "code",
   "execution_count": 34,
   "id": "026f9b28-709a-485d-9105-aee827ee28be",
   "metadata": {},
   "outputs": [],
   "source": [
    "(x_train, y_train), (x_test, y_test) = dataset"
   ]
  },
  {
   "cell_type": "markdown",
   "id": "e401c909-ab13-435e-8306-9e67781602d2",
   "metadata": {},
   "source": [
    "### Verificamos la forma de los datos"
   ]
  },
  {
   "cell_type": "code",
   "execution_count": 35,
   "id": "2afa2b8b-3b1c-464d-ac37-fff21fb3aefe",
   "metadata": {},
   "outputs": [
    {
     "name": "stdout",
     "output_type": "stream",
     "text": [
      "(60000, 28, 28) (10000, 28, 28) (60000,) (10000,)\n"
     ]
    }
   ],
   "source": [
    "print(x_train.shape, x_test.shape, y_train.shape, y_test.shape)"
   ]
  },
  {
   "cell_type": "markdown",
   "id": "3b1613df-a5a2-4b09-9b2a-1702957016e9",
   "metadata": {},
   "source": [
    "### Se aplanan las imagenes y se normalizan"
   ]
  },
  {
   "cell_type": "code",
   "execution_count": 36,
   "id": "a66febe9-ea7f-4d80-9094-c327dc8da707",
   "metadata": {},
   "outputs": [],
   "source": [
    "entrada = int(x_train.shape[1]*x_train.shape[2])\n",
    "stddev = 1/np.sqrt(entrada)\n",
    "stddev2 = 1/np.sqrt(512)\n",
    "\n",
    "x_train = x_train.reshape(int(x_train.shape[0]), entrada)\n",
    "x_test = x_test.reshape(int(x_test.shape[0]), entrada)\n",
    "x_train = x_train.astype('float32')\n",
    "x_test = x_test.astype('float32')\n",
    "\n",
    "x_train /= 255.\n",
    "x_test /= 255."
   ]
  },
  {
   "cell_type": "markdown",
   "id": "1b52c10e-43c2-4249-b79a-b832bfae75ac",
   "metadata": {},
   "source": [
    "### Se aplica one-hot encoding sobre las categorias"
   ]
  },
  {
   "cell_type": "code",
   "execution_count": 37,
   "id": "5fa24e94-f7c3-439a-87f0-ae03def8ac47",
   "metadata": {},
   "outputs": [],
   "source": [
    "num_classes=10\n",
    "y_train = keras.utils.to_categorical(y_train, num_classes)\n",
    "y_test = keras.utils.to_categorical(y_test, num_classes)"
   ]
  },
  {
   "cell_type": "markdown",
   "id": "36dee6d2-9baa-4747-8a7d-70dc640c65a1",
   "metadata": {},
   "source": [
    "# Creación de la red neuronal"
   ]
  },
  {
   "cell_type": "code",
   "execution_count": 38,
   "id": "f74d326b-a1dc-40ef-aab7-8aaadb6e1b5f",
   "metadata": {},
   "outputs": [
    {
     "data": {
      "text/html": [
       "<pre style=\"white-space:pre;overflow-x:auto;line-height:normal;font-family:Menlo,'DejaVu Sans Mono',consolas,'Courier New',monospace\"><span style=\"font-weight: bold\">Model: \"sequential_1\"</span>\n",
       "</pre>\n"
      ],
      "text/plain": [
       "\u001b[1mModel: \"sequential_1\"\u001b[0m\n"
      ]
     },
     "metadata": {},
     "output_type": "display_data"
    },
    {
     "data": {
      "text/html": [
       "<pre style=\"white-space:pre;overflow-x:auto;line-height:normal;font-family:Menlo,'DejaVu Sans Mono',consolas,'Courier New',monospace\">┏━━━━━━━━━━━━━━━━━━━━━━━━━━━━━━━━━┳━━━━━━━━━━━━━━━━━━━━━━━━┳━━━━━━━━━━━━━━━┓\n",
       "┃<span style=\"font-weight: bold\"> Layer (type)                    </span>┃<span style=\"font-weight: bold\"> Output Shape           </span>┃<span style=\"font-weight: bold\">       Param # </span>┃\n",
       "┡━━━━━━━━━━━━━━━━━━━━━━━━━━━━━━━━━╇━━━━━━━━━━━━━━━━━━━━━━━━╇━━━━━━━━━━━━━━━┩\n",
       "│ layer1 (<span style=\"color: #0087ff; text-decoration-color: #0087ff\">Dense</span>)                  │ (<span style=\"color: #00d7ff; text-decoration-color: #00d7ff\">None</span>, <span style=\"color: #00af00; text-decoration-color: #00af00\">512</span>)            │       <span style=\"color: #00af00; text-decoration-color: #00af00\">401,920</span> │\n",
       "├─────────────────────────────────┼────────────────────────┼───────────────┤\n",
       "│ layer2 (<span style=\"color: #0087ff; text-decoration-color: #0087ff\">Dense</span>)                  │ (<span style=\"color: #00d7ff; text-decoration-color: #00d7ff\">None</span>, <span style=\"color: #00af00; text-decoration-color: #00af00\">512</span>)            │       <span style=\"color: #00af00; text-decoration-color: #00af00\">262,656</span> │\n",
       "├─────────────────────────────────┼────────────────────────┼───────────────┤\n",
       "│ output (<span style=\"color: #0087ff; text-decoration-color: #0087ff\">Dense</span>)                  │ (<span style=\"color: #00d7ff; text-decoration-color: #00d7ff\">None</span>, <span style=\"color: #00af00; text-decoration-color: #00af00\">10</span>)             │         <span style=\"color: #00af00; text-decoration-color: #00af00\">5,130</span> │\n",
       "└─────────────────────────────────┴────────────────────────┴───────────────┘\n",
       "</pre>\n"
      ],
      "text/plain": [
       "┏━━━━━━━━━━━━━━━━━━━━━━━━━━━━━━━━━┳━━━━━━━━━━━━━━━━━━━━━━━━┳━━━━━━━━━━━━━━━┓\n",
       "┃\u001b[1m \u001b[0m\u001b[1mLayer (type)                   \u001b[0m\u001b[1m \u001b[0m┃\u001b[1m \u001b[0m\u001b[1mOutput Shape          \u001b[0m\u001b[1m \u001b[0m┃\u001b[1m \u001b[0m\u001b[1m      Param #\u001b[0m\u001b[1m \u001b[0m┃\n",
       "┡━━━━━━━━━━━━━━━━━━━━━━━━━━━━━━━━━╇━━━━━━━━━━━━━━━━━━━━━━━━╇━━━━━━━━━━━━━━━┩\n",
       "│ layer1 (\u001b[38;5;33mDense\u001b[0m)                  │ (\u001b[38;5;45mNone\u001b[0m, \u001b[38;5;34m512\u001b[0m)            │       \u001b[38;5;34m401,920\u001b[0m │\n",
       "├─────────────────────────────────┼────────────────────────┼───────────────┤\n",
       "│ layer2 (\u001b[38;5;33mDense\u001b[0m)                  │ (\u001b[38;5;45mNone\u001b[0m, \u001b[38;5;34m512\u001b[0m)            │       \u001b[38;5;34m262,656\u001b[0m │\n",
       "├─────────────────────────────────┼────────────────────────┼───────────────┤\n",
       "│ output (\u001b[38;5;33mDense\u001b[0m)                  │ (\u001b[38;5;45mNone\u001b[0m, \u001b[38;5;34m10\u001b[0m)             │         \u001b[38;5;34m5,130\u001b[0m │\n",
       "└─────────────────────────────────┴────────────────────────┴───────────────┘\n"
      ]
     },
     "metadata": {},
     "output_type": "display_data"
    },
    {
     "data": {
      "text/html": [
       "<pre style=\"white-space:pre;overflow-x:auto;line-height:normal;font-family:Menlo,'DejaVu Sans Mono',consolas,'Courier New',monospace\"><span style=\"font-weight: bold\"> Total params: </span><span style=\"color: #00af00; text-decoration-color: #00af00\">669,706</span> (2.55 MB)\n",
       "</pre>\n"
      ],
      "text/plain": [
       "\u001b[1m Total params: \u001b[0m\u001b[38;5;34m669,706\u001b[0m (2.55 MB)\n"
      ]
     },
     "metadata": {},
     "output_type": "display_data"
    },
    {
     "data": {
      "text/html": [
       "<pre style=\"white-space:pre;overflow-x:auto;line-height:normal;font-family:Menlo,'DejaVu Sans Mono',consolas,'Courier New',monospace\"><span style=\"font-weight: bold\"> Trainable params: </span><span style=\"color: #00af00; text-decoration-color: #00af00\">669,706</span> (2.55 MB)\n",
       "</pre>\n"
      ],
      "text/plain": [
       "\u001b[1m Trainable params: \u001b[0m\u001b[38;5;34m669,706\u001b[0m (2.55 MB)\n"
      ]
     },
     "metadata": {},
     "output_type": "display_data"
    },
    {
     "data": {
      "text/html": [
       "<pre style=\"white-space:pre;overflow-x:auto;line-height:normal;font-family:Menlo,'DejaVu Sans Mono',consolas,'Courier New',monospace\"><span style=\"font-weight: bold\"> Non-trainable params: </span><span style=\"color: #00af00; text-decoration-color: #00af00\">0</span> (0.00 B)\n",
       "</pre>\n"
      ],
      "text/plain": [
       "\u001b[1m Non-trainable params: \u001b[0m\u001b[38;5;34m0\u001b[0m (0.00 B)\n"
      ]
     },
     "metadata": {},
     "output_type": "display_data"
    }
   ],
   "source": [
    "model_ml = keras.Sequential(\n",
    "    [\n",
    "        layers.Dense(512, activation = \"relu\", name = \"layer1\", \n",
    "                     kernel_initializer=initializers.RandomNormal(stddev = stddev)),\n",
    "        \n",
    "        layers.Dense(512, activation = \"relu\", name = \"layer2\", \n",
    "                     kernel_initializer=initializers.RandomNormal(stddev = stddev2)),\n",
    "        \n",
    "        layers.Dense(num_classes, activation = \"softmax\", name = \"output\"),\n",
    "    ]\n",
    ") #Arquitectura de la red neuronal\n",
    "\n",
    "model_ml.build(input_shape=(None, entrada))\n",
    "model_ml.compile(loss = loss, optimizer = RMSprop(learning_rate = lr),metrics = [\"accuracy\"]) #Función de costo\n",
    "model_ml.summary()"
   ]
  },
  {
   "cell_type": "markdown",
   "id": "c78c1e7a-be09-4668-b8d2-e007ff5a26cf",
   "metadata": {},
   "source": [
    "### Reinicio de la red neuronal si se necesita"
   ]
  },
  {
   "cell_type": "code",
   "execution_count": 39,
   "id": "a76b00df-e910-445a-b31f-e180e91f7e2e",
   "metadata": {},
   "outputs": [],
   "source": [
    "for layer in model_ml.layers:\n",
    "   if hasattr(layer, 'kernel_initializer'):\n",
    "       new_weights = layer.kernel_initializer(layer.kernel.shape)\n",
    "       layer.kernel.assign(new_weights)\n",
    "   if hasattr(layer, 'bias_initializer') and layer.bias is not None:\n",
    "       new_bias = layer.bias_initializer(layer.bias.shape)\n",
    "       layer.bias.assign(new_bias)"
   ]
  },
  {
   "cell_type": "markdown",
   "id": "c460d033-0fdd-4c8f-aec5-a072f2c269bc",
   "metadata": {},
   "source": [
    "### Estructura de la red neuronal"
   ]
  },
  {
   "cell_type": "code",
   "execution_count": 40,
   "id": "8bb743d5-df2b-4421-a6ed-80f290f78121",
   "metadata": {},
   "outputs": [
    {
     "name": "stdout",
     "output_type": "stream",
     "text": [
      "Epoch 1/8\n",
      "\u001b[1m500/500\u001b[0m \u001b[32m━━━━━━━━━━━━━━━━━━━━\u001b[0m\u001b[37m\u001b[0m \u001b[1m4s\u001b[0m 7ms/step - accuracy: 0.9176 - loss: 0.2987 - val_accuracy: 0.9535 - val_loss: 0.1542\n",
      "Epoch 2/8\n",
      "\u001b[1m500/500\u001b[0m \u001b[32m━━━━━━━━━━━━━━━━━━━━\u001b[0m\u001b[37m\u001b[0m \u001b[1m4s\u001b[0m 8ms/step - accuracy: 0.9674 - loss: 0.1146 - val_accuracy: 0.9695 - val_loss: 0.1178\n",
      "Epoch 3/8\n",
      "\u001b[1m500/500\u001b[0m \u001b[32m━━━━━━━━━━━━━━━━━━━━\u001b[0m\u001b[37m\u001b[0m \u001b[1m3s\u001b[0m 7ms/step - accuracy: 0.9753 - loss: 0.0885 - val_accuracy: 0.9737 - val_loss: 0.0950\n",
      "Epoch 4/8\n",
      "\u001b[1m500/500\u001b[0m \u001b[32m━━━━━━━━━━━━━━━━━━━━\u001b[0m\u001b[37m\u001b[0m \u001b[1m4s\u001b[0m 7ms/step - accuracy: 0.9796 - loss: 0.0771 - val_accuracy: 0.9740 - val_loss: 0.1268\n",
      "Epoch 5/8\n",
      "\u001b[1m500/500\u001b[0m \u001b[32m━━━━━━━━━━━━━━━━━━━━\u001b[0m\u001b[37m\u001b[0m \u001b[1m5s\u001b[0m 7ms/step - accuracy: 0.9827 - loss: 0.0662 - val_accuracy: 0.9721 - val_loss: 0.1358\n",
      "Epoch 6/8\n",
      "\u001b[1m500/500\u001b[0m \u001b[32m━━━━━━━━━━━━━━━━━━━━\u001b[0m\u001b[37m\u001b[0m \u001b[1m3s\u001b[0m 7ms/step - accuracy: 0.9846 - loss: 0.0590 - val_accuracy: 0.9758 - val_loss: 0.1259\n",
      "Epoch 7/8\n",
      "\u001b[1m500/500\u001b[0m \u001b[32m━━━━━━━━━━━━━━━━━━━━\u001b[0m\u001b[37m\u001b[0m \u001b[1m3s\u001b[0m 7ms/step - accuracy: 0.9863 - loss: 0.0559 - val_accuracy: 0.9705 - val_loss: 0.1793\n",
      "Epoch 8/8\n",
      "\u001b[1m500/500\u001b[0m \u001b[32m━━━━━━━━━━━━━━━━━━━━\u001b[0m\u001b[37m\u001b[0m \u001b[1m3s\u001b[0m 7ms/step - accuracy: 0.9890 - loss: 0.0471 - val_accuracy: 0.9740 - val_loss: 0.2047\n"
     ]
    },
    {
     "data": {
      "text/html": [],
      "text/plain": [
       "<IPython.core.display.HTML object>"
      ]
     },
     "metadata": {},
     "output_type": "display_data"
    },
    {
     "data": {
      "text/html": [
       "<br>    <style><br>        .wandb-row {<br>            display: flex;<br>            flex-direction: row;<br>            flex-wrap: wrap;<br>            justify-content: flex-start;<br>            width: 100%;<br>        }<br>        .wandb-col {<br>            display: flex;<br>            flex-direction: column;<br>            flex-basis: 100%;<br>            flex: 1;<br>            padding: 10px;<br>        }<br>    </style><br><div class=\"wandb-row\"><div class=\"wandb-col\"><h3>Run history:</h3><br/><table class=\"wandb\"><tr><td>batch/accuracy</td><td>▁▂▃▄▄▆▇▇▇███████████████████████████████</td></tr><tr><td>batch/batch_step</td><td>▁▁▁▁▂▂▂▂▂▃▃▃▃▃▄▄▄▄▄▄▅▅▅▅▅▆▆▆▆▆▆▆▆▆▇▇▇▇▇█</td></tr><tr><td>batch/learning_rate</td><td>▁▁▁▁▁▁▁▁▁▁▁▁▁▁▁▁▁▁▁▁▁▁▁▁▁▁▁▁▁▁▁▁▁▁▁▁▁▁▁▁</td></tr><tr><td>batch/loss</td><td>█▃▃▃▂▂▂▁▁▁▁▁▁▁▁▁▁▁▁▁▁▁▁▁▁▁▁▁▁▁▁▁▁▁▁▁▁▁▁▁</td></tr><tr><td>epoch/accuracy</td><td>▁▆▇▇▇███</td></tr><tr><td>epoch/epoch</td><td>▁▂▃▄▅▆▇█</td></tr><tr><td>epoch/learning_rate</td><td>▁▁▁▁▁▁▁▁</td></tr><tr><td>epoch/loss</td><td>█▃▂▂▂▁▁▁</td></tr><tr><td>epoch/val_accuracy</td><td>▁▆▇▇▇█▆▇</td></tr><tr><td>epoch/val_loss</td><td>▅▂▁▃▄▃▆█</td></tr></table><br/></div><div class=\"wandb-col\"><h3>Run summary:</h3><br/><table class=\"wandb\"><tr><td>batch/accuracy</td><td>0.98905</td></tr><tr><td>batch/batch_step</td><td>3995</td></tr><tr><td>batch/learning_rate</td><td>0.005</td></tr><tr><td>batch/loss</td><td>0.0472</td></tr><tr><td>epoch/accuracy</td><td>0.989</td></tr><tr><td>epoch/epoch</td><td>7</td></tr><tr><td>epoch/learning_rate</td><td>0.005</td></tr><tr><td>epoch/loss</td><td>0.04713</td></tr><tr><td>epoch/val_accuracy</td><td>0.974</td></tr><tr><td>epoch/val_loss</td><td>0.20469</td></tr></table><br/></div></div>"
      ],
      "text/plain": [
       "<IPython.core.display.HTML object>"
      ]
     },
     "metadata": {},
     "output_type": "display_data"
    },
    {
     "data": {
      "text/html": [
       " View run <strong style=\"color:#cdcd00\">Prueba con más capas</strong> at: <a href='https://wandb.ai/luisedu04-buap/Deeplearning_Digit_Recognition/runs/vu123zq1' target=\"_blank\">https://wandb.ai/luisedu04-buap/Deeplearning_Digit_Recognition/runs/vu123zq1</a><br> View project at: <a href='https://wandb.ai/luisedu04-buap/Deeplearning_Digit_Recognition' target=\"_blank\">https://wandb.ai/luisedu04-buap/Deeplearning_Digit_Recognition</a><br>Synced 5 W&B file(s), 0 media file(s), 16 artifact file(s) and 0 other file(s)"
      ],
      "text/plain": [
       "<IPython.core.display.HTML object>"
      ]
     },
     "metadata": {},
     "output_type": "display_data"
    },
    {
     "data": {
      "text/html": [
       "Find logs at: <code>./wandb/run-20250914_195352-vu123zq1/logs</code>"
      ],
      "text/plain": [
       "<IPython.core.display.HTML object>"
      ]
     },
     "metadata": {},
     "output_type": "display_data"
    }
   ],
   "source": [
    "history = model_ml.fit(x_train, y_train,\n",
    "                    batch_size = bs,\n",
    "                    epochs = epochs,\n",
    "                    verbose = 1,\n",
    "                    validation_data = (x_test, y_test),\n",
    "                    callbacks=[\n",
    "                        WandbMetricsLogger(log_freq=5),\n",
    "                        WandbModelCheckpoint(\"models/model_ml.keras\")\n",
    "                    ])\n",
    "run.finish()"
   ]
  },
  {
   "cell_type": "code",
   "execution_count": 41,
   "id": "f8a2679a-7458-4d55-9ae6-d4c5fb9d8459",
   "metadata": {},
   "outputs": [
    {
     "name": "stdout",
     "output_type": "stream",
     "text": [
      "\u001b[1m313/313\u001b[0m \u001b[32m━━━━━━━━━━━━━━━━━━━━\u001b[0m\u001b[37m\u001b[0m \u001b[1m1s\u001b[0m 2ms/step - accuracy: 0.9740 - loss: 0.2047\n",
      "Test loss: 0.204685777425766\n",
      "Test accuracy: 0.9739999771118164\n"
     ]
    }
   ],
   "source": [
    "score = model_ml.evaluate(x_test, y_test, verbose=1)\n",
    "print('Test loss:', score[0])\n",
    "print('Test accuracy:', score[1])"
   ]
  },
  {
   "cell_type": "code",
   "execution_count": 42,
   "id": "9fa6b9c3-0052-4aa6-b8df-412ddd124bd1",
   "metadata": {},
   "outputs": [
    {
     "data": {
      "image/png": "[encoded data removed]",
      "text/plain": [
       "<Figure size 640x480 with 1 Axes>"
      ]
     },
     "metadata": {},
     "output_type": "display_data"
    },
    {
     "name": "stdout",
     "output_type": "stream",
     "text": [
      "\u001b[1m1/1\u001b[0m \u001b[32m━━━━━━━━━━━━━━━━━━━━\u001b[0m\u001b[37m\u001b[0m \u001b[1m0s\u001b[0m 41ms/step\n",
      "(1, 10)\n",
      "[4.0530785e-15 1.3128059e-12 5.8499499e-12 9.9999022e-01 1.0307981e-13\n",
      " 9.7196034e-06 1.9053794e-16 1.4066584e-11 7.4273414e-09 9.7984829e-09]\n",
      "[0. 0. 0. 1. 0. 0. 0. 0. 0. 0.]\n"
     ]
    }
   ],
   "source": [
    "os.chdir(r\"/tf/keras_neural_network/Mis_Tests\")\n",
    "\n",
    "mi_imagen = \"Mitres.jpg\"\n",
    "imtest = imread(mi_imagen)\n",
    "plt.imshow(imtest)\n",
    "plt.show()\n",
    "\n",
    "if imtest.ndim == 3:\n",
    "    imtest = np.dot(imtest[...,:3], [0.2125, 0.7174, 0.0721])\n",
    "imtest = np.where(imtest < 0.5, 1.0, 0.0)\n",
    "imtest = imtest.reshape(1, 784).astype(\"float32\")\n",
    "\n",
    "a = model_ml.predict(imtest)\n",
    "print(a.shape)\n",
    "print(a[0])\n",
    "print(np.where(a[0] == np.amax(a[0]),1.,0.))"
   ]
  },
  {
   "cell_type": "code",
   "execution_count": 43,
   "id": "2d5fe29f-6aa1-4a51-97b2-c265528f895c",
   "metadata": {},
   "outputs": [
    {
     "data": {
      "image/png": "[encoded data removed]",
      "text/plain": [
       "<Figure size 640x480 with 1 Axes>"
      ]
     },
     "metadata": {},
     "output_type": "display_data"
    },
    {
     "name": "stdout",
     "output_type": "stream",
     "text": [
      "\u001b[1m313/313\u001b[0m \u001b[32m━━━━━━━━━━━━━━━━━━━━\u001b[0m\u001b[37m\u001b[0m \u001b[1m0s\u001b[0m 1ms/step\n",
      "(10000, 10)\n",
      "[5.91911247e-31 1.10559913e-23 8.23001997e-22 1.00000000e+00\n",
      " 1.15180356e-26 4.64104986e-19 1.47072813e-30 3.17658699e-23\n",
      " 9.75099428e-25 3.24259485e-20]\n",
      "resultado correcto:\n",
      "[0. 0. 0. 1. 0. 0. 0. 0. 0. 0.]\n"
     ]
    }
   ],
   "source": [
    "os.chdir(r\"/tf/keras_neural_network\")\n",
    "h = 7024 #h = 1 : número 2\n",
    "         #h = 7018 : número 5\n",
    "         #h = 7024 : número 3\n",
    "\n",
    "plt.imshow(x_test[h].reshape(28,28))\n",
    "plt.show()\n",
    "a=model_ml.predict(x_test)\n",
    "\n",
    "print(a.shape)\n",
    "print(a[h])\n",
    "\n",
    "print(\"resultado correcto:\")\n",
    "print(y_test[h])"
   ]
  },
  {
   "cell_type": "code",
   "execution_count": 44,
   "id": "afbd2102-18b0-4465-ad92-8536b6e7e54b",
   "metadata": {},
   "outputs": [],
   "source": [
    "#Para guardar el modelo en disco\n",
    "model_ml.save(\"redmascapas.keras\")"
   ]
  }
 ],
 "metadata": {
  "kernelspec": {
   "display_name": "Python 3 (ipykernel)",
   "language": "python",
   "name": "python3"
  },
  "language_info": {
   "codemirror_mode": {
    "name": "ipython",
    "version": 3
   },
   "file_extension": ".py",
   "mimetype": "text/x-python",
   "name": "python",
   "nbconvert_exporter": "python",
   "pygments_lexer": "ipython3",
   "version": "3.11.13"
  }
 },
 "nbformat": 4,
 "nbformat_minor": 5
}
