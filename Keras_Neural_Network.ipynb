{
 "cells": [
  {
   "cell_type": "markdown",
   "id": "1f82d750-87cb-40d4-8520-f7e1bc2610e1",
   "metadata": {},
   "source": [
    "# Librerias"
   ]
  },
  {
   "cell_type": "code",
   "execution_count": 374,
   "id": "a0002ab4-306c-4367-9d6d-c27202a6e03e",
   "metadata": {},
   "outputs": [],
   "source": [
    "import tensorflow as tf\n",
    "import numpy as np\n",
    "import matplotlib.pyplot as plt\n",
    "from matplotlib.image import imread\n",
    "import os"
   ]
  },
  {
   "cell_type": "code",
   "execution_count": 375,
   "id": "7d80c596-7ced-49b7-a736-f71c5f42d219",
   "metadata": {},
   "outputs": [
    {
     "name": "stdout",
     "output_type": "stream",
     "text": [
      "Requirement already satisfied: wandb in /usr/local/lib/python3.11/dist-packages (0.21.4)\n",
      "Requirement already satisfied: click>=8.0.1 in /usr/local/lib/python3.11/dist-packages (from wandb) (8.2.1)\n",
      "Requirement already satisfied: gitpython!=3.1.29,>=1.0.0 in /usr/local/lib/python3.11/dist-packages (from wandb) (3.1.45)\n",
      "Requirement already satisfied: packaging in /usr/local/lib/python3.11/dist-packages (from wandb) (25.0)\n",
      "Requirement already satisfied: platformdirs in /usr/local/lib/python3.11/dist-packages (from wandb) (4.3.8)\n",
      "Requirement already satisfied: protobuf!=4.21.0,!=5.28.0,<7,>=3.19.0 in /usr/local/lib/python3.11/dist-packages (from wandb) (6.31.1)\n",
      "Requirement already satisfied: pydantic<3 in /usr/local/lib/python3.11/dist-packages (from wandb) (2.11.9)\n",
      "Requirement already satisfied: pyyaml in /usr/local/lib/python3.11/dist-packages (from wandb) (6.0.2)\n",
      "Requirement already satisfied: requests<3,>=2.0.0 in /usr/local/lib/python3.11/dist-packages (from wandb) (2.32.4)\n",
      "Requirement already satisfied: sentry-sdk>=2.0.0 in /usr/local/lib/python3.11/dist-packages (from wandb) (2.37.1)\n",
      "Requirement already satisfied: typing-extensions<5,>=4.8 in /usr/local/lib/python3.11/dist-packages (from wandb) (4.14.1)\n",
      "Requirement already satisfied: annotated-types>=0.6.0 in /usr/local/lib/python3.11/dist-packages (from pydantic<3->wandb) (0.7.0)\n",
      "Requirement already satisfied: pydantic-core==2.33.2 in /usr/local/lib/python3.11/dist-packages (from pydantic<3->wandb) (2.33.2)\n",
      "Requirement already satisfied: typing-inspection>=0.4.0 in /usr/local/lib/python3.11/dist-packages (from pydantic<3->wandb) (0.4.1)\n",
      "Requirement already satisfied: charset_normalizer<4,>=2 in /usr/local/lib/python3.11/dist-packages (from requests<3,>=2.0.0->wandb) (3.4.3)\n",
      "Requirement already satisfied: idna<4,>=2.5 in /usr/local/lib/python3.11/dist-packages (from requests<3,>=2.0.0->wandb) (3.10)\n",
      "Requirement already satisfied: urllib3<3,>=1.21.1 in /usr/local/lib/python3.11/dist-packages (from requests<3,>=2.0.0->wandb) (2.5.0)\n",
      "Requirement already satisfied: certifi>=2017.4.17 in /usr/local/lib/python3.11/dist-packages (from requests<3,>=2.0.0->wandb) (2025.8.3)\n",
      "Requirement already satisfied: gitdb<5,>=4.0.1 in /usr/local/lib/python3.11/dist-packages (from gitpython!=3.1.29,>=1.0.0->wandb) (4.0.12)\n",
      "Requirement already satisfied: smmap<6,>=3.0.1 in /usr/local/lib/python3.11/dist-packages (from gitdb<5,>=4.0.1->gitpython!=3.1.29,>=1.0.0->wandb) (5.0.2)\n",
      "\u001b[33mWARNING: Running pip as the 'root' user can result in broken permissions and conflicting behaviour with the system package manager, possibly rendering your system unusable. It is recommended to use a virtual environment instead: https://pip.pypa.io/warnings/venv. Use the --root-user-action option if you know what you are doing and want to suppress this warning.\u001b[0m\u001b[33m\n",
      "\u001b[0m"
     ]
    }
   ],
   "source": [
    "!pip3 install --upgrade wandb"
   ]
  },
  {
   "cell_type": "markdown",
   "id": "d3ffe2c9-387a-4bf5-a484-741e9ffcfca4",
   "metadata": {},
   "source": [
    "### Sublibrerias de tensorflow -keras-"
   ]
  },
  {
   "cell_type": "code",
   "execution_count": 376,
   "id": "ac4fbc2e-58e1-4424-9b36-9545c5ffdc18",
   "metadata": {},
   "outputs": [],
   "source": [
    "from tensorflow import keras\n",
    "from tensorflow.keras.datasets import mnist\n",
    "from tensorflow.keras.models import Sequential\n",
    "from keras import layers\n",
    "from keras import initializers\n",
    "from tensorflow.keras.layers import Dense, Dropout, Activation\n",
    "from tensorflow.keras.optimizers import RMSprop, SGD, Adam\n",
    "from tensorflow.keras import regularizers\n",
    "from tensorflow.keras.models import load_model\n",
    "import time"
   ]
  },
  {
   "cell_type": "markdown",
   "id": "7f4202d2-71f0-4258-9402-2f4ea5d6399f",
   "metadata": {},
   "source": [
    "### Abrimos wandb"
   ]
  },
  {
   "cell_type": "code",
   "execution_count": 377,
   "id": "d537dc57-472f-4253-8e99-6fdb201be81c",
   "metadata": {},
   "outputs": [],
   "source": [
    "# import wandb\n",
    "# from wandb.integration.keras import WandbMetricsLogger, WandbModelCheckpoint\n",
    "# wandb.login()"
   ]
  },
  {
   "cell_type": "markdown",
   "id": "a0b7af5d-3231-412a-8ff0-04959ef4f85e",
   "metadata": {},
   "source": [
    "### Hiper-parametros"
   ]
  },
  {
   "cell_type": "code",
   "execution_count": 378,
   "id": "a7edca01-2ca6-4cc8-bc27-b3dc64bc092c",
   "metadata": {},
   "outputs": [],
   "source": [
    "lr = 0.005 #Learning rate\n",
    "epochs = 25\n",
    "bs = 120 #batch size\n",
    "loss = \"categorical_crossentropy\""
   ]
  },
  {
   "cell_type": "markdown",
   "id": "84180570-1310-47e5-be51-7e3263d35831",
   "metadata": {},
   "source": [
    "### inicialización de wandb"
   ]
  },
  {
   "cell_type": "code",
   "execution_count": 379,
   "id": "2cce1a1a-9b22-4579-b6d7-8b49c55e4755",
   "metadata": {},
   "outputs": [
    {
     "data": {
      "text/html": [],
      "text/plain": [
       "<IPython.core.display.HTML object>"
      ]
     },
     "metadata": {},
     "output_type": "display_data"
    },
    {
     "data": {
      "text/html": [
       "Tracking run with wandb version 0.21.4"
      ],
      "text/plain": [
       "<IPython.core.display.HTML object>"
      ]
     },
     "metadata": {},
     "output_type": "display_data"
    },
    {
     "data": {
      "text/html": [
       "Run data is saved locally in <code>/tf/keras_neural_network/wandb/run-20250915_004121-ouebc7u7</code>"
      ],
      "text/plain": [
       "<IPython.core.display.HTML object>"
      ]
     },
     "metadata": {},
     "output_type": "display_data"
    },
    {
     "data": {
      "text/html": [
       "Syncing run <strong><a href='https://wandb.ai/luisedu04-buap/Deeplearning_Digit_Recognition/runs/ouebc7u7' target=\"_blank\">Prueba de mejor modelo con L1-L2</a></strong> to <a href='https://wandb.ai/luisedu04-buap/Deeplearning_Digit_Recognition' target=\"_blank\">Weights & Biases</a> (<a href='https://wandb.me/developer-guide' target=\"_blank\">docs</a>)<br>"
      ],
      "text/plain": [
       "<IPython.core.display.HTML object>"
      ]
     },
     "metadata": {},
     "output_type": "display_data"
    },
    {
     "data": {
      "text/html": [
       " View project at <a href='https://wandb.ai/luisedu04-buap/Deeplearning_Digit_Recognition' target=\"_blank\">https://wandb.ai/luisedu04-buap/Deeplearning_Digit_Recognition</a>"
      ],
      "text/plain": [
       "<IPython.core.display.HTML object>"
      ]
     },
     "metadata": {},
     "output_type": "display_data"
    },
    {
     "data": {
      "text/html": [
       " View run at <a href='https://wandb.ai/luisedu04-buap/Deeplearning_Digit_Recognition/runs/ouebc7u7' target=\"_blank\">https://wandb.ai/luisedu04-buap/Deeplearning_Digit_Recognition/runs/ouebc7u7</a>"
      ],
      "text/plain": [
       "<IPython.core.display.HTML object>"
      ]
     },
     "metadata": {},
     "output_type": "display_data"
    }
   ],
   "source": [
    "run = wandb.init(\n",
    "    settings=wandb.Settings(x_disable_stats=False, x_stats_sampling_interval = 1.0),\n",
    "    # set the wandb project where this run will be logged\n",
    "    name = \"Prueba de mejor modelo con L1-L2 y dropout\",\n",
    "    project = \"Deeplearning_Digit_Recognition\",\n",
    "    group = \"BEST WITH REGULATION\",\n",
    "\n",
    "    # track hyperparameters and run metadata with wandb.config\n",
    "    config = {\n",
    "        \"layer_1\": 512,\n",
    "        #\"layer_2\": 512,\n",
    "        \"activation_1\": \"relu\",\n",
    "        #\"activation_2\": \"relu\",\n",
    "        \"w_initializer\": \"RandomNormal\",\n",
    "        \"optimizer\": \"RMSprop\",\n",
    "        \"loss\": loss,\n",
    "        \"metric\": \"accuracy\",\n",
    "        \"epoch\": epochs,\n",
    "        \"batch_size\": bs,\n",
    "        \"layer_quantity\": 1,\n",
    "        \"regularizer\": \"L1-L2\"\n",
    "    }\n",
    ")\n",
    "time.sleep(3.0)"
   ]
  },
  {
   "cell_type": "markdown",
   "id": "f7e5c57c-98a9-4a09-8bb8-18aa0e852f47",
   "metadata": {},
   "source": [
    "### Carga de datos"
   ]
  },
  {
   "cell_type": "code",
   "execution_count": 380,
   "id": "d5a1e2fc-fe59-44c4-8191-9470babf0d86",
   "metadata": {},
   "outputs": [],
   "source": [
    "dataset = mnist.load_data()"
   ]
  },
  {
   "cell_type": "markdown",
   "id": "f6ea0bfe-4617-45ce-8ac0-442ef6277984",
   "metadata": {},
   "source": [
    "### Datos de entrenamiento y prueba"
   ]
  },
  {
   "cell_type": "code",
   "execution_count": 381,
   "id": "026f9b28-709a-485d-9105-aee827ee28be",
   "metadata": {},
   "outputs": [],
   "source": [
    "(x_train, y_train), (x_test, y_test) = dataset"
   ]
  },
  {
   "cell_type": "markdown",
   "id": "e401c909-ab13-435e-8306-9e67781602d2",
   "metadata": {},
   "source": [
    "### Verificamos la forma de los datos"
   ]
  },
  {
   "cell_type": "code",
   "execution_count": 382,
   "id": "2afa2b8b-3b1c-464d-ac37-fff21fb3aefe",
   "metadata": {},
   "outputs": [
    {
     "name": "stdout",
     "output_type": "stream",
     "text": [
      "(60000, 28, 28) (10000, 28, 28) (60000,) (10000,)\n"
     ]
    }
   ],
   "source": [
    "print(x_train.shape, x_test.shape, y_train.shape, y_test.shape)"
   ]
  },
  {
   "cell_type": "markdown",
   "id": "3b1613df-a5a2-4b09-9b2a-1702957016e9",
   "metadata": {},
   "source": [
    "### Se aplanan las imagenes y se normalizan"
   ]
  },
  {
   "cell_type": "code",
   "execution_count": 383,
   "id": "a66febe9-ea7f-4d80-9094-c327dc8da707",
   "metadata": {},
   "outputs": [],
   "source": [
    "entrada = int(x_train.shape[1]*x_train.shape[2])\n",
    "stddev = 1/np.sqrt(entrada)\n",
    "stddev2 = 1/np.sqrt(512)\n",
    "\n",
    "x_train = x_train.reshape(int(x_train.shape[0]), entrada)\n",
    "x_test = x_test.reshape(int(x_test.shape[0]), entrada)\n",
    "x_train = x_train.astype('float32')\n",
    "x_test = x_test.astype('float32')\n",
    "\n",
    "x_train /= 255.\n",
    "x_test /= 255."
   ]
  },
  {
   "cell_type": "markdown",
   "id": "1b52c10e-43c2-4249-b79a-b832bfae75ac",
   "metadata": {},
   "source": [
    "### Se aplica one-hot encoding sobre las categorias"
   ]
  },
  {
   "cell_type": "code",
   "execution_count": 384,
   "id": "5fa24e94-f7c3-439a-87f0-ae03def8ac47",
   "metadata": {},
   "outputs": [],
   "source": [
    "num_classes=10\n",
    "y_train = keras.utils.to_categorical(y_train, num_classes)\n",
    "y_test = keras.utils.to_categorical(y_test, num_classes)"
   ]
  },
  {
   "cell_type": "markdown",
   "id": "36dee6d2-9baa-4747-8a7d-70dc640c65a1",
   "metadata": {},
   "source": [
    "# Creación de la red neuronal"
   ]
  },
  {
   "cell_type": "code",
   "execution_count": 385,
   "id": "f74d326b-a1dc-40ef-aab7-8aaadb6e1b5f",
   "metadata": {},
   "outputs": [
    {
     "ename": "SyntaxError",
     "evalue": "invalid syntax. Perhaps you forgot a comma? (237990274.py, line 6)",
     "output_type": "error",
     "traceback": [
      "  \u001b[36mCell\u001b[39m\u001b[36m \u001b[39m\u001b[32mIn[385]\u001b[39m\u001b[32m, line 6\u001b[39m\n\u001b[31m    \u001b[39m\u001b[31mDropuot(0.3)\u001b[39m\n    ^\n\u001b[31mSyntaxError\u001b[39m\u001b[31m:\u001b[39m invalid syntax. Perhaps you forgot a comma?\n"
     ]
    }
   ],
   "source": [
    "model_nadol1l2 = keras.Sequential(\n",
    "    [\n",
    "        layers.Dense(512, activation = \"relu\", name = \"layer1\", \n",
    "                     kernel_initializer=initializers.RandomNormal(stddev = stddev),\n",
    "                     kernel_regularizer=regularizers.L1L2(l1=1e-5, l2=1e-5)),\n",
    "        Dropuot(0.3)\n",
    "        # layers.Dense(512, activation = \"relu\", name = \"layer2\", \n",
    "        #              kernel_initializer=initializers.RandomNormal(stddev = stddev2)),\n",
    "        \n",
    "        layers.Dense(num_classes, activation = \"softmax\", name = \"output\"),\n",
    "    ]\n",
    ") #Arquitectura de la red neuronal\n",
    "\n",
    "model_nadol1l2.build(input_shape=(None, entrada))\n",
    "model_nadol1l2.compile(loss = loss, optimizer = RMSprop(learning_rate = lr),metrics = [\"accuracy\"]) #Función de costo\n",
    "model_nadol1l2.summary()"
   ]
  },
  {
   "cell_type": "markdown",
   "id": "c78c1e7a-be09-4668-b8d2-e007ff5a26cf",
   "metadata": {},
   "source": [
    "### Reinicio de la red neuronal si se necesita"
   ]
  },
  {
   "cell_type": "code",
   "execution_count": null,
   "id": "a76b00df-e910-445a-b31f-e180e91f7e2e",
   "metadata": {},
   "outputs": [],
   "source": [
    "# for layer in model_nadol1l2.layers:\n",
    "#    if hasattr(layer, 'kernel_initializer'):\n",
    "#        new_weights = layer.kernel_initializer(layer.kernel.shape)\n",
    "#        layer.kernel.assign(new_weights)\n",
    "#    if hasattr(layer, 'bias_initializer') and layer.bias is not None:\n",
    "#        new_bias = layer.bias_initializer(layer.bias.shape)\n",
    "#        layer.bias.assign(new_bias)"
   ]
  },
  {
   "cell_type": "markdown",
   "id": "c460d033-0fdd-4c8f-aec5-a072f2c269bc",
   "metadata": {},
   "source": [
    "### Estructura de la red neuronal"
   ]
  },
  {
   "cell_type": "code",
   "execution_count": null,
   "id": "8bb743d5-df2b-4421-a6ed-80f290f78121",
   "metadata": {},
   "outputs": [],
   "source": [
    "history = model_nadol1l2.fit(x_train, y_train,\n",
    "                    batch_size = bs,\n",
    "                    epochs = epochs,\n",
    "                    verbose = 1,\n",
    "                    validation_data = (x_test, y_test),\n",
    "                    callbacks=[\n",
    "                        WandbMetricsLogger(log_freq=1),\n",
    "                        WandbModelCheckpoint(\"models/model_nadol1l2.keras\")\n",
    "                    ])\n",
    "run.finish()"
   ]
  },
  {
   "cell_type": "code",
   "execution_count": null,
   "id": "f8a2679a-7458-4d55-9ae6-d4c5fb9d8459",
   "metadata": {},
   "outputs": [],
   "source": [
    "score = model_nadol1l2.evaluate(x_test, y_test, verbose=1)\n",
    "print('Test loss:', score[0])\n",
    "print('Test accuracy:', score[1])"
   ]
  },
  {
   "cell_type": "markdown",
   "id": "001f1016-7f3a-42f1-8aeb-95f611bcea8b",
   "metadata": {},
   "source": [
    "### Probando el modelo"
   ]
  },
  {
   "cell_type": "code",
   "execution_count": null,
   "id": "a54fbf3b-868d-4d60-b598-839c8743e827",
   "metadata": {},
   "outputs": [],
   "source": [
    "mi_modelo = \"model_nal1\"\n",
    "path = f\"/tf/keras_neural_network/models/{mi_modelo}.keras\"\n",
    "model = load_model(path)"
   ]
  },
  {
   "cell_type": "code",
   "execution_count": null,
   "id": "9fa6b9c3-0052-4aa6-b8df-412ddd124bd1",
   "metadata": {},
   "outputs": [],
   "source": [
    "os.chdir(r\"/tf/keras_neural_network/Mis_Tests\")\n",
    "\n",
    "mi_imagen = \"Mitres.jpg\"\n",
    "imtest = imread(mi_imagen)\n",
    "plt.imshow(imtest)\n",
    "plt.show()\n",
    "\n",
    "if imtest.ndim == 3:\n",
    "    imtest = np.dot(imtest[...,:3], [0.2125, 0.7174, 0.0721])\n",
    "imtest = np.where(imtest < 0.5, 1.0, 0.0)\n",
    "imtest = imtest.reshape(1, 784).astype(\"float32\")\n",
    "\n",
    "a = model.predict(imtest)\n",
    "print(a.shape)\n",
    "print(a[0])\n",
    "print(np.where(a[0] == np.amax(a[0]),1.,0.))"
   ]
  },
  {
   "cell_type": "code",
   "execution_count": null,
   "id": "2d5fe29f-6aa1-4a51-97b2-c265528f895c",
   "metadata": {},
   "outputs": [],
   "source": [
    "os.chdir(r\"/tf/keras_neural_network\")\n",
    "h = 1 #h = 1 : número 2\n",
    "         #h = 7018 : número 5\n",
    "         #h = 7024 : número 3\n",
    "\n",
    "plt.imshow(x_test[h].reshape(28,28))\n",
    "plt.show()\n",
    "a=model.predict(x_test)\n",
    "\n",
    "print(a.shape)\n",
    "print(a[h])\n",
    "print(np.where(a[0] == np.amax(a[0]),1.,0.))\n",
    "\n",
    "print(\"resultado correcto:\")\n",
    "print(y_test[h])"
   ]
  },
  {
   "cell_type": "code",
   "execution_count": null,
   "id": "afbd2102-18b0-4465-ad92-8536b6e7e54b",
   "metadata": {},
   "outputs": [],
   "source": [
    "#Para guardar el modelo en disco\n",
    "model_nadol1l2.save(\"rednuevaactivación.keras\")"
   ]
  }
 ],
 "metadata": {
  "kernelspec": {
   "display_name": "Python 3 (ipykernel)",
   "language": "python",
   "name": "python3"
  },
  "language_info": {
   "codemirror_mode": {
    "name": "ipython",
    "version": 3
   },
   "file_extension": ".py",
   "mimetype": "text/x-python",
   "name": "python",
   "nbconvert_exporter": "python",
   "pygments_lexer": "ipython3",
   "version": "3.11.13"
  }
 },
 "nbformat": 4,
 "nbformat_minor": 5
}
